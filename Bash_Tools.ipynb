{
  "cells": [
    {
      "cell_type": "markdown",
      "metadata": {
        "id": "view-in-github",
        "colab_type": "text"
      },
      "source": [
        "<a href=\"https://colab.research.google.com/github/adventHymnals/resources/blob/master/Bash_Tools.ipynb\" target=\"_parent\"><img src=\"https://colab.research.google.com/assets/colab-badge.svg\" alt=\"Open In Colab\"/></a>"
      ]
    },
    {
      "cell_type": "markdown",
      "metadata": {
        "id": "5ciFObZgRtHo"
      },
      "source": [
        "## Bash Tools\n",
        "- A handy way to run some ssh commands if you dont't have access to a linux machine\n"
      ]
    },
    {
      "cell_type": "code",
      "execution_count": null,
      "metadata": {
        "id": "JDo4tHZ6Y6St",
        "cellView": "form"
      },
      "outputs": [],
      "source": [
        "#@title Create an email on a mail-in-box server\n",
        "#%%capture\n",
        "%%shell\n",
        "echo -n \"Please enter the mail-in-a-box domain: \"\n",
        "read -r domain\n",
        "echo\n",
        "echo -n \"And the email to create: \"\n",
        "read -r email\n",
        "echo\n",
        "echo -n \"And the password of the email to create: \"\n",
        "read -s password\n",
        "echo\n",
        "echo -n \"And the admin email: \"\n",
        "read -r adminEmail\n",
        "echo\n",
        "echo -n \"And the password of the admin email: \"\n",
        "read -s adminPassword\n",
        "echo\n",
        "curl -s -X POST \"https://{domain}/admin/mail/users/add\" -d \"email={email}\" -d \"password={password}\" -u \"{adminEmail}:{adminPassword}\"\n"
      ]
    }
  ],
  "metadata": {
    "colab": {
      "provenance": [],
      "include_colab_link": true
    },
    "kernelspec": {
      "display_name": "Python 3",
      "name": "python3"
    }
  },
  "nbformat": 4,
  "nbformat_minor": 0
}