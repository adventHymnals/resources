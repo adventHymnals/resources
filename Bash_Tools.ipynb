{
  "cells": [
    {
      "cell_type": "markdown",
      "metadata": {
        "id": "view-in-github",
        "colab_type": "text"
      },
      "source": [
        "<a href=\"https://colab.research.google.com/github/adventHymnals/resources/blob/master/Bash_Tools.ipynb\" target=\"_parent\"><img src=\"https://colab.research.google.com/assets/colab-badge.svg\" alt=\"Open In Colab\"/></a>"
      ]
    },
    {
      "cell_type": "markdown",
      "metadata": {
        "id": "5ciFObZgRtHo"
      },
      "source": [
        "## Bash Tools\n",
        "- A handy way to run some ssh commands if you dont't have access to a linux machine\n"
      ]
    },
    {
      "cell_type": "code",
      "execution_count": null,
      "metadata": {
        "id": "JDo4tHZ6Y6St",
        "cellView": "form"
      },
      "outputs": [],
      "source": [
        "#@title Create an email on a mail-in-box server\n",
        "#%%capture\n",
        "%%shell\n",
        "echo -n \"Please enter the mail-in-a-box domain: \"\n",
        "read -r domain\n",
        "echo\n",
        "echo -n \"And the email to create: \"\n",
        "read -r email\n",
        "echo\n",
        "echo -n \"And the password of the email to create: \"\n",
        "read -s password\n",
        "echo\n",
        "echo -n \"And the admin email: \"\n",
        "read -r adminEmail\n",
        "echo\n",
        "echo -n \"And the password of the admin email: \"\n",
        "read -s adminPassword\n",
        "echo\n",
        "curl -s -X POST \"https://{domain}/admin/mail/users/add\" -d \"email={email}\" -d \"password={password}\" -u \"{adminEmail}:{adminPassword}\"\n"
      ]
    },
    {
      "cell_type": "code",
      "source": [
        "#@title Generate SSH key\n",
        "import subprocess\n",
        "from getpass import getpass\n",
        "from zipfile import ZipFile\n",
        "from google.colab import files\n",
        "import os\n",
        "# Read passphrase\n",
        "passphrase = getpass(\"Please enter the password you want to use for ssh: (Make sure you don't forget it as there is no way of recovering it) \")\n",
        "os.environ['SSH_PWD'] = passphrase\n",
        "# Generate SSH key\n",
        "subprocess.run(\n",
        "    [\n",
        "        \"ssh-keygen\",\n",
        "        \"-t\",\n",
        "        \"ed25519\",\n",
        "        \"-C\",\n",
        "        \"your_email@example.com\",\n",
        "        \"-f\",\n",
        "        \"/content/id_rsa\",\n",
        "        \"-N\",\n",
        "        passphrase,\n",
        "    ]\n",
        ")\n",
        "!rm -rf ssh\n",
        "!mkdir -p ssh\n",
        "!mv id_rsa* ssh/\n",
        "!rm -rf /content/ssh.zip\n",
        "!zip -P \"$SSH_PWD\" /content/ssh.zip -r ssh/ > /dev/null\n",
        "\n",
        "# Provide download link\n",
        "files.download(\"/content/ssh.zip\")\n",
        "\n",
        "!echo \"Copy everything below (the whole line including the email) to github\"\n",
        "!cat ssh/id_rsa.pub\n"
      ],
      "metadata": {
        "id": "A4MFmOOPnmnz",
        "cellView": "form"
      },
      "execution_count": null,
      "outputs": []
    }
  ],
  "metadata": {
    "colab": {
      "provenance": [],
      "include_colab_link": true
    },
    "kernelspec": {
      "display_name": "Python 3",
      "name": "python3"
    }
  },
  "nbformat": 4,
  "nbformat_minor": 0
}