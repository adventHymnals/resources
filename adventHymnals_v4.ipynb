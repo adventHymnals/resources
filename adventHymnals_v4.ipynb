{
  "cells": [
    {
      "cell_type": "markdown",
      "metadata": {
        "id": "view-in-github",
        "colab_type": "text"
      },
      "source": [
        "<a href=\"https://colab.research.google.com/github/adventHymnals/resources/blob/master/adventHymnals_v4.ipynb\" target=\"_parent\"><img src=\"https://colab.research.google.com/assets/colab-badge.svg\" alt=\"Open In Colab\"/></a>"
      ]
    },
    {
      "cell_type": "code",
      "execution_count": null,
      "metadata": {
        "colab": {
          "base_uri": "https://localhost:8080/"
        },
        "id": "F9nw_nyedk2x",
        "outputId": "ae16f12d-dda3-4952-adb7-a192e1406e32"
      },
      "outputs": [
        {
          "output_type": "stream",
          "name": "stdout",
          "text": [
            "Drive already mounted at /content/drive; to attempt to forcibly remount, call drive.mount(\"/content/drive\", force_remount=True).\n"
          ]
        }
      ],
      "source": [
        "from google.colab import drive\n",
        "drive.mount('/content/drive')"
      ]
    },
    {
      "cell_type": "code",
      "execution_count": null,
      "metadata": {
        "id": "X-_hfShweSMC"
      },
      "outputs": [],
      "source": [
        "import os\n",
        "os.environ['ROOT_DIR']=\"adventhymnals_v4\"\n",
        "os.environ['PRIVATE_DIR']=\"private\""
      ]
    },
    {
      "cell_type": "code",
      "execution_count": null,
      "metadata": {
        "colab": {
          "base_uri": "https://localhost:8080/"
        },
        "id": "6t7f1fMmept7",
        "outputId": "882b778b-da22-4a81-a4ae-00d5eb20fca9"
      },
      "outputs": [
        {
          "name": "stdout",
          "output_type": "stream",
          "text": [
            "Please enter ssh zip password: ··········\n"
          ]
        }
      ],
      "source": [
        "import os\n",
        "import getpass\n",
        "password = getpass.getpass(\"Please enter ssh zip password: \")\n",
        "os.environ['SSH_ZIP_PASSWORD'] = password"
      ]
    },
    {
      "cell_type": "code",
      "execution_count": null,
      "metadata": {
        "colab": {
          "base_uri": "https://localhost:8080/"
        },
        "id": "sliujxQzf47W",
        "outputId": "446a705a-61ae-4348-d003-598e582a754d"
      },
      "outputs": [
        {
          "output_type": "stream",
          "name": "stdout",
          "text": [
            "# GitHub.com:22 SSH-2.0-babeld-d815c248\n",
            "# GitHub.com:22 SSH-2.0-babeld-d815c248\n",
            "# GitHub.com:22 SSH-2.0-babeld-d815c248\n",
            "# GitHub.com:22 SSH-2.0-babeld-d815c248\n",
            "# GitHub.com:22 SSH-2.0-babeld-d815c248\n",
            "# GitHub.com:22 SSH-2.0-babeld-4a94ee6b\n",
            "# GitHub.com:22 SSH-2.0-babeld-d815c248\n",
            "# GitHub.com:22 SSH-2.0-babeld-d815c248\n",
            "# GitHub.com:22 SSH-2.0-babeld-d815c248\n",
            "# GitHub.com:22 SSH-2.0-babeld-d815c248\n",
            "Agent pid 441331\n",
            "Enter passphrase for /root/.ssh/id_rsa: Identity added: /root/.ssh/id_rsa (/root/.ssh/id_rsa)\n"
          ]
        },
        {
          "output_type": "execute_result",
          "data": {
            "text/plain": []
          },
          "metadata": {},
          "execution_count": 63
        }
      ],
      "source": [
        "%%shell\n",
        "sshZipped=\"/content/drive/MyDrive/$ROOT_DIR/$PRIVATE_DIR/ssh.zip\"\n",
        "cp $sshZipped /tmp/\n",
        "unzip -P \"$SSH_ZIP_PASSWORD\" -oq /tmp/ssh.zip\n",
        "rm -rf /root/.ssh\n",
        "mkdir -p /root/.ssh\n",
        "rsync -aq ssh/  ~/.ssh/\n",
        "rsync -aq ssh/   /root/.ssh/\n",
        "ssh-keyscan GitHub.com > /root/.ssh/known_hosts #2>&1 >/dev/null\n",
        "ssh-keyscan GitHub.com > ~/.ssh/known_hosts #2>&1 >/dev/null\n",
        "chmod 644 ~/.ssh/known_hosts\n",
        "chmod 600 ~/.ssh/id_rsa\n",
        "chmod 644 /root/.ssh/known_hosts\n",
        "chmod 600 /root/.ssh/id_rsa\n",
        "\n",
        "eval \"$(ssh-agent)\"\n",
        "#ssh-add ~/.ssh/id_rsa\n",
        "echo \"$SSH_ZIP_PASSWORD\" | ssh-add ~/.ssh/id_rsa\n"
      ]
    },
    {
      "cell_type": "markdown",
      "metadata": {
        "id": "WFZDrxrFit61"
      },
      "source": [
        "Create the _v4 hymnal repos\n",
        "No means of filtering spreadsheets by directory, so it is important that spreadsheets don't share titles\n",
        "https://docs.gspread.org/en/latest/api/client.html#gspread.Client.open"
      ]
    },
    {
      "cell_type": "code",
      "execution_count": null,
      "metadata": {
        "colab": {
          "base_uri": "https://localhost:8080/"
        },
        "id": "ib8L-cWXiHUe",
        "outputId": "5816c92b-5e42-474d-cc00-2280483731ce"
      },
      "outputs": [
        {
          "output_type": "stream",
          "name": "stdout",
          "text": [
            "adventhymnals_v4/public/Hymnals\n",
            "YAML file saved as '/tmp/hymnals.yaml'\n"
          ]
        }
      ],
      "source": [
        "from google.colab import auth\n",
        "auth.authenticate_user()\n",
        "\n",
        "import gspread\n",
        "from google.auth import default\n",
        "creds, _ = default()\n",
        "\n",
        "gc = gspread.authorize(creds)\n",
        "\n",
        "file_path = os.environ['ROOT_DIR'] + '/public/Hymnals'\n",
        "print(file_path)\n",
        "\n",
        "#worksheet = gc.open(file_path, folder_id=\"1uXjDtbXRe78EhnCzOe8gjk-gXOdyPNsh\").sheet1\n",
        "worksheet = gc.open(\"Hymnals\").sheet1\n",
        "\n",
        "# get_all_values gives a list of rows.\n",
        "rows = worksheet.get_all_values()\n",
        "#print(rows)\n",
        "\n",
        "# Convert to a DataFrame and render.\n",
        "#import pandas as pd\n",
        "#pd.DataFrame.from_records(rows)\n",
        "\n",
        "hymnals = [row[0] + '-v4' for row in rows[1:]]\n",
        "\n",
        "# Convert to YAML format\n",
        "yaml_string = \"hymnals:\\n\"\n",
        "for hymnal in hymnals:\n",
        "    yaml_string += f\"  - '{hymnal}'\\n\"\n",
        "\n",
        "#print(yaml_string)\n",
        "\n",
        "# Save to a file named 'hymnals.yaml'\n",
        "file_path = '/tmp/hymnals.yaml'\n",
        "with open(file_path, 'w') as file:\n",
        "    file.write(yaml_string)\n",
        "\n",
        "print(f\"YAML file saved as '{file_path}'\")\n",
        "\n",
        "\n",
        "### process configs\n",
        "worksheet = gc.open(\"configs\").sheet1\n",
        "\n",
        "# get_all_values gives a list of rows.\n",
        "rows = worksheet.get_all_values()\n",
        "# print(rows)\n",
        "for row in rows:\n",
        "    key, value = row\n",
        "    os.environ[key] = value"
      ]
    },
    {
      "cell_type": "code",
      "execution_count": null,
      "metadata": {
        "colab": {
          "base_uri": "https://localhost:8080/"
        },
        "id": "YcG2wnuoisP_",
        "outputId": "bbf63dda-8674-4c27-bd66-666d0e09898a"
      },
      "outputs": [
        {
          "output_type": "stream",
          "name": "stdout",
          "text": [
            "Agent pid 441388\n",
            "Enter passphrase for /root/.ssh/id_rsa: Identity added: /root/.ssh/id_rsa (/root/.ssh/id_rsa)\n",
            "Cloning into 'hymnals_repo'...\n",
            "remote: Enumerating objects: 170, done.\u001b[K\n",
            "remote: Counting objects: 100% (39/39), done.\u001b[K\n",
            "remote: Compressing objects: 100% (22/22), done.\u001b[K\n",
            "remote: Total 170 (delta 7), reused 15 (delta 2), pack-reused 131\u001b[K\n",
            "Receiving objects: 100% (170/170), 29.56 KiB | 347.00 KiB/s, done.\n",
            "Resolving deltas: 100% (31/31), done.\n",
            "On branch master\n",
            "Your branch is up to date with 'origin/master'.\n",
            "\n",
            "nothing to commit, working tree clean\n"
          ]
        },
        {
          "output_type": "execute_result",
          "data": {
            "text/plain": []
          },
          "metadata": {},
          "execution_count": 65
        }
      ],
      "source": [
        "%%shell\n",
        "eval \"$(ssh-agent)\"\n",
        "#ssh-add ~/.ssh/id_rsa\n",
        "echo \"$SSH_ZIP_PASSWORD\" | ssh-add ~/.ssh/id_rsa\n",
        "rm -rf hymnals_repo\n",
        "git clone git@github.com:adventHymnals/hymnals_repo.git\n",
        "mv /tmp/hymnals.yaml hymnals_repo\n",
        "\n",
        "git config --global user.email \"$GitCommitEmail\"\n",
        "git config --global user.name \"$GitCommitUser\"\n",
        "cd hymnals_repo\n",
        "# echo \"$(date)\" >> tmp\n",
        "git add . && git commit -m \"$(date)\" && git push origin master\n",
        "cd ..\n",
        "\n",
        "## clone from csycms... to _v4 if _v4 does not exist\n"
      ]
    },
    {
      "cell_type": "code",
      "execution_count": null,
      "metadata": {
        "colab": {
          "base_uri": "https://localhost:8080/"
        },
        "id": "EKYBjP2CtRJd",
        "outputId": "db2ac91c-c5e9-40fd-98e5-2a5d115aa9d8"
      },
      "outputs": [
        {
          "output_type": "stream",
          "name": "stdout",
          "text": [
            "Agent pid 441435\n",
            "Enter passphrase for /root/.ssh/id_rsa: Identity added: /root/.ssh/id_rsa (/root/.ssh/id_rsa)\n",
            "=>campus-melodies-v4\n",
            "campus-melodies-csycms\n",
            "Cloning into 'campus-melodies-v4'...\n",
            "remote: Enumerating objects: 240, done.\u001b[K\n",
            "remote: Counting objects: 100% (240/240), done.\u001b[K\n",
            "remote: Compressing objects: 100% (219/219), done.\u001b[K\n",
            "remote: Total 240 (delta 20), reused 240 (delta 20), pack-reused 0\u001b[K\n",
            "Receiving objects: 100% (240/240), 133.18 KiB | 1.33 MiB/s, done.\n",
            "Resolving deltas: 100% (20/20), done.\n",
            "01.indices  02.001-100\t03.101-200  04.hymnal  hymnals.yaml  index.md\n",
            "Repository is not empty.\n",
            "=>hymns-for-the-poor-of-the-flock-v4\n",
            "hymns-for-the-poor-of-the-flock-csycms\n",
            "Cloning into 'hymns-for-the-poor-of-the-flock-v4'...\n",
            "remote: Enumerating objects: 561, done.\u001b[K\n",
            "remote: Counting objects: 100% (561/561), done.\u001b[K\n",
            "remote: Compressing objects: 100% (524/524), done.\u001b[K\n",
            "remote: Total 561 (delta 36), reused 561 (delta 36), pack-reused 0\u001b[K\n",
            "Receiving objects: 100% (561/561), 301.83 KiB | 1.01 MiB/s, done.\n",
            "Resolving deltas: 100% (36/36), done.\n",
            "01.indices  03.101-200\t05.301-400  hymnals.yaml\n",
            "02.001-100  04.201-300\t06.401-453  index.md\n",
            "Repository is not empty.\n",
            "=>millenial-harp-v4\n",
            "millenial-harp-csycms\n",
            "Cloning into 'millenial-harp-v4'...\n",
            "remote: Enumerating objects: 67, done.\u001b[K\n",
            "remote: Counting objects: 100% (67/67), done.\u001b[K\n",
            "remote: Compressing objects: 100% (60/60), done.\u001b[K\n",
            "remote: Total 67 (delta 6), reused 67 (delta 6), pack-reused 0\u001b[K\n",
            "Receiving objects: 100% (67/67), 44.77 KiB | 509.00 KiB/s, done.\n",
            "Resolving deltas: 100% (6/6), done.\n",
            "01.indices  02.001-100\thymnals.yaml  index.md\n",
            "Repository is not empty.\n",
            "=>Hymns-for-Gods-Peculiar-People-v4\n",
            "Hymns-for-Gods-Peculiar-People-csycms\n",
            "Cloning into 'Hymns-for-Gods-Peculiar-People-v4'...\n",
            "remote: Enumerating objects: 73, done.\u001b[K\n",
            "remote: Counting objects: 100% (73/73), done.\u001b[K\n",
            "remote: Compressing objects: 100% (65/65), done.\u001b[K\n",
            "remote: Total 73 (delta 7), reused 73 (delta 7), pack-reused 0\u001b[K\n",
            "Receiving objects: 100% (73/73), 47.23 KiB | 248.00 KiB/s, done.\n",
            "Resolving deltas: 100% (7/7), done.\n",
            "01.indices  02.001-053\thymnals.yaml  index.md\n",
            "Repository is not empty.\n",
            "=>christ-in-song-v4\n",
            "christ-in-song-csycms\n",
            "Cloning into 'christ-in-song-v4'...\n",
            "remote: Enumerating objects: 1163, done.\u001b[K\n",
            "remote: Counting objects: 100% (1163/1163), done.\u001b[K\n",
            "remote: Compressing objects: 100% (1147/1147), done.\u001b[K\n",
            "remote: Total 1163 (delta 15), reused 1163 (delta 15), pack-reused 0\u001b[K\n",
            "Receiving objects: 100% (1163/1163), 831.56 KiB | 699.00 KiB/s, done.\n",
            "Resolving deltas: 100% (15/15), done.\n",
            "01.indices  04.201-300\t07.501-600  10.801-900\t  index.md\n",
            "02.001-100  05.301-400\t08.601-700  11.901-949\n",
            "03.101-200  06.401-500\t09.701-800  hymnals.yaml\n",
            "Repository is not empty.\n",
            "=>church-hymnal-v4\n",
            "church-hymnal-csycms\n",
            "Cloning into 'church-hymnal-v4'...\n",
            "remote: Enumerating objects: 866, done.\u001b[K\n",
            "remote: Counting objects: 100% (866/866), done.\u001b[K\n",
            "remote: Compressing objects: 100% (852/852), done.\u001b[K\n",
            "remote: Total 866 (delta 13), reused 866 (delta 13), pack-reused 0\u001b[K\n",
            "Receiving objects: 100% (866/866), 649.58 KiB | 608.00 KiB/s, done.\n",
            "Resolving deltas: 100% (13/13), done.\n",
            "01.indices  03.101-200\t05.301-400  07.501-600\t09.701-703    index.md\n",
            "02.001-100  04.201-300\t06.401-500  08.601-700\thymnals.yaml\n",
            "Repository is not empty.\n",
            "=>seventh-day-adventist-hymnal-v4\n",
            "seventh-day-adventist-hymnal-csycms\n",
            "Cloning into 'seventh-day-adventist-hymnal-v4'...\n",
            "remote: Enumerating objects: 869, done.\u001b[K\n",
            "remote: Counting objects: 100% (869/869), done.\u001b[K\n",
            "remote: Compressing objects: 100% (829/829), done.\u001b[K\n",
            "remote: Total 869 (delta 39), reused 869 (delta 39), pack-reused 0\u001b[K\n",
            "Receiving objects: 100% (869/869), 587.98 KiB | 1.59 MiB/s, done.\n",
            "Resolving deltas: 100% (39/39), done.\n",
            "01.indices  03.101-200\t05.301-400  07.501-600\thymnals.yaml\n",
            "02.001-100  04.201-300\t06.401-500  08.601-695\tindex.md\n",
            "Repository is not empty.\n",
            "=>nyimbo-za-kristo-v4\n",
            "nyimbo-za-kristo-csycms\n",
            "Cloning into 'nyimbo-za-kristo-v4'...\n",
            "remote: Enumerating objects: 276, done.\u001b[K\n",
            "remote: Counting objects: 100% (276/276), done.\u001b[K\n",
            "remote: Compressing objects: 100% (243/243), done.\u001b[K\n",
            "remote: Total 276 (delta 32), reused 276 (delta 32), pack-reused 0\u001b[K\n",
            "Receiving objects: 100% (276/276), 140.92 KiB | 755.00 KiB/s, done.\n",
            "Resolving deltas: 100% (32/32), done.\n",
            "01.indices  02.001-100\t03.101-200  04.201-220\thymnals.yaml  index.md\n",
            "Repository is not empty.\n",
            "=>wende-nyasaye-v4\n",
            "wende-nyasaye-csycms\n",
            "Cloning into 'wende-nyasaye-v4'...\n",
            "remote: Enumerating objects: 414, done.\u001b[K\n",
            "remote: Counting objects: 100% (414/414), done.\u001b[K\n",
            "remote: Compressing objects: 100% (372/372), done.\u001b[K\n",
            "remote: Total 414 (delta 41), reused 414 (delta 41), pack-reused 0\u001b[K\n",
            "Receiving objects: 100% (414/414), 232.69 KiB | 892.00 KiB/s, done.\n",
            "Resolving deltas: 100% (41/41), done.\n",
            "01.indices  03.101-200\t05.301-332    index.md\n",
            "02.001-100  04.201-300\thymnals.yaml\n",
            "Repository is not empty.\n"
          ]
        },
        {
          "output_type": "execute_result",
          "data": {
            "text/plain": []
          },
          "metadata": {},
          "execution_count": 66
        }
      ],
      "source": [
        "%%shell\n",
        "cd hymnals_repo\n",
        "eval \"$(ssh-agent)\"\n",
        "echo \"$SSH_ZIP_PASSWORD\" | ssh-add ~/.ssh/id_rsa\n",
        "#rm -rf hymnals_repo\n",
        "rm -rf tmps\n",
        "mkdir -p tmps\n",
        "cat hymnals.yaml | grep -o \"'[^\\']*'\" | sed \"s/'//g\" | while read -r hymnal; do\n",
        "    echo \"=>$hymnal\"\n",
        "    csycms_hymnal=$(echo \"$hymnal\"|sed -e 's/v4$/csycms/')\n",
        "    echo $csycms_hymnal\n",
        "\n",
        "    cd tmps\n",
        "    git clone \"git@github.com:adventHymnals/$hymnal.git\"\n",
        "    ls \"$hymnal\"\n",
        "    cd \"$hymnal\"\n",
        "\n",
        "    if git rev-parse HEAD >/dev/null 2>&1; then\n",
        "      echo \"Repository is not empty.\"\n",
        "    else ## if _v4 repo does not exist\n",
        "      currentPath=$(pwd)\n",
        "      cd /tmp\n",
        "      rm -rf \"$csycms_hymnal\"\n",
        "      git clone \"git@github.com:adventHymnals/$csycms_hymnal.git\"\n",
        "      cd \"$csycms_hymnal\"\n",
        "      rm -rf .git .github\n",
        "      echo \"ls of $csycms_hymnal::\"\n",
        "\n",
        "      # rename /chapter.md\n",
        "      find \"./\" -wholename \"*/chapter.md\"  | while read -r line ; do\n",
        "        newPath=$( echo $line | sed -e 's|/chapter\\.md|/index.md|' )\n",
        "        mv \"$line\" \"$newPath\"\n",
        "      done\n",
        "\n",
        "      # rename /docs.md\n",
        "      find \"./\" -wholename \"*/docs.md\"  | while read -r line ; do  ## remove also trailing comma from file names\n",
        "          newPath=$( echo $line | sed -e 's|/\\([^\\]*\\)/docs\\.md|/\\1.md|' | sed -e 's|,\\.md|.md|')\n",
        "          # echo \"$line==>$newPath\"\n",
        "          mv \"$line\" \"$newPath\"\n",
        "      done\n",
        "\n",
        "      if [ -d \"./indices\" ]; then # if its a hymnal, (with indices dir)\n",
        "          mv \"./index.md\" \"$hymnal/preface.md\"\n",
        "          mv \"./indices/index.md\" \"$hymnal/index.md\"\n",
        "          rm -rf \"./indices\"\n",
        "      fi\n",
        "\n",
        "      find  \"./\" -type d -empty -delete\n",
        "      #ls -lha ./\n",
        "      cd ..\n",
        "      rsync -av \"$csycms_hymnal/\" \"$currentPath/\"\n",
        "      cd \"$currentPath\"\n",
        "      git add . && git commit -m \"$(date)\" && git push origin master\n",
        "      #ls -lha\n",
        "    fi\n",
        "    cd ..\n",
        "    cd ..\n",
        "done"
      ]
    },
    {
      "cell_type": "markdown",
      "metadata": {
        "id": "RI7nWLLw26vT"
      },
      "source": [
        "Sync github repo with our docs here.\n",
        "If folder does not exist in drive, run pandoc to convert every file to docx and save in drive, otherwise"
      ]
    },
    {
      "cell_type": "code",
      "execution_count": null,
      "metadata": {
        "colab": {
          "base_uri": "https://localhost:8080/"
        },
        "id": "gdMOiFEY3wv9",
        "outputId": "ae15a96d-3684-41b6-a8fe-ec594a9b08a9"
      },
      "outputs": [
        {
          "output_type": "stream",
          "name": "stdout",
          "text": [
            "Folder exists!\n",
            "Folder exists!\n",
            "Folder exists!\n",
            "Folder exists!\n",
            "Folder exists!\n",
            "Folder exists!\n",
            "Folder exists!\n",
            "Folder exists!\n",
            "Folder exists!\n"
          ]
        },
        {
          "output_type": "execute_result",
          "data": {
            "text/plain": []
          },
          "metadata": {},
          "execution_count": 68
        }
      ],
      "source": [
        "%%shell\n",
        "\n",
        "cd /content/hymnals_repo\n",
        "cd tmps\n",
        "\n",
        "for hymnal in *v4*; do\n",
        "    #echo \"=>$hymnal\"\n",
        "    drive_hymnal=$(echo \"$hymnal\"|sed -e 's/-v4$//')\n",
        "    #echo \"<==$csycms_hymnal\"\n",
        "    if [ -d \"/content/drive/MyDrive/$ROOT_DIR/public/Hymnals/$drive_hymnal\" ]; then\n",
        "      echo \"Folder exists!\"\n",
        "    else\n",
        "      echo \"Folder does not exist!\"\n",
        "      #// do the conversion here...\n",
        "\n",
        "\n",
        "      source_folder=\"./$hymnal\"  # Replace with the path to the source folder\n",
        "      output_folder=\"/content/drive/MyDrive/$ROOT_DIR/public/Hymnals/$drive_hymnal\"  # Replace with the path to the output folder\n",
        "\n",
        "      # Create the output folder if it doesn't exist\n",
        "      mkdir -p \"$output_folder\"\n",
        "\n",
        "      # Function to convert .md files to .docx\n",
        "      convert_to_docx() {\n",
        "        local source_file=\"$1\"\n",
        "        local output_file=\"$2\"\n",
        "        pandoc \"$source_file\" -o \"$output_file\"\n",
        "      }\n",
        "\n",
        "      # Find all .md files in the source folder and its subfolders\n",
        "      find \"$source_folder\" -type f -name \"*.md\" |\n",
        "      while IFS= read -r md_file; do\n",
        "      relative_path=\"${md_file#$source_folder/}\"\n",
        "        #echo $relative_path\n",
        "        # Determine the output file path by replacing the .md extension with .docx in the output folder\n",
        "        docx_file=\"${md_file%.md}.docx\"\n",
        "        output_file=\"$output_folder/${relative_path%.md}.docx\"\n",
        "        #output_file=\"$output_folder/${docx_file##*/}\"\n",
        "        mkdir -p \"$(dirname \"$output_file\")\"\n",
        "        echo \"==>$output_file\"\n",
        "\n",
        "        # Convert .md to .docx and save it in the output folder\n",
        "        file_name=\"$md_file\"\n",
        "        #cat $file_name\n",
        "        sed -i '/^#/d' $file_name\n",
        "        ## Format the title. Remove hymn number and hymnal name\n",
        "        sed -i 's/^\\([ ]*\\)[0-9]*[\\.]*[ ]*\\(.*\\) \\- [^\\-]*$/\\1\\2/' $file_name\n",
        "        sed -i 's/^\\-\\-$/---/g' $file_name\n",
        "        sed -i '/^\\^/d' $file_name\n",
        "        ## sed -i '/```/{:a;N;/```/!ba;s/```.*$/```/2;}' $file_name\n",
        "        new_file_name=\"new_file_name\"\n",
        "        ## Remove everything after the last ```\n",
        "        #cat $file_name\n",
        "        grep -n -m 2 '```' $file_name | tail -n 1 | cut -d ':' -f 1 | xargs -I {} head -n {} $file_name > \"$new_file_name\"\n",
        "        #sed -i 's/\\(```.*```\\).*/\\1/' $file_name\n",
        "        #cat $new_file_name\n",
        "        mv $new_file_name $file_name\n",
        "\n",
        "       convert_to_docx \"$md_file\" \"$output_file\"\n",
        "       #cat $new_file_name\n",
        "      done\n",
        "\n",
        "    fi\n",
        "done\n",
        "\n",
        "\n"
      ]
    },
    {
      "cell_type": "markdown",
      "metadata": {
        "id": "ANK8tcz_JKBO"
      },
      "source": [
        "Run this cell atleast 3 times until the only output is of the hymnal dir names. If an error occurs, you will have to rename the directory causing the error manually"
      ]
    },
    {
      "cell_type": "code",
      "execution_count": null,
      "metadata": {
        "id": "4O_c8rYU4EXn"
      },
      "outputs": [],
      "source": [
        "%%shell\n",
        "\n",
        "cd /content/hymnals_repo\n",
        "cd tmps\n",
        "\n",
        "# if matched..\n",
        "for hymnal in *; do\n",
        "    echo \"=>$hymnal\"\n",
        "    drive_hymnal=$(echo \"$hymnal\"|sed -e 's/-v4$//')\n",
        "    #echo \"<==$csycms_hymnal\"\n",
        "\n",
        "\n",
        "\n",
        "      source_folder=\"./$hymnal\"  # Replace with the path to the source folder\n",
        "      output_folder=\"/content/drive/MyDrive/$ROOT_DIR/public/Hymnals/$drive_hymnal\"  # Replace with the path to the output folder\n",
        "\n",
        "      # Find all .md files in the source folder and its subfolders\n",
        "      find \"$output_folder\" -type f -name \"*.docx\" |\n",
        "      while IFS= read -r file_path; do\n",
        "\n",
        "        filename=$(basename \"$file_path\")\n",
        "        pattern=\"^[0-9]{2,3}\\..*\\.docx\"\n",
        "        if [[ $filename =~ $pattern ]]; then\n",
        "            folder_name=$(dirname \"$file_path\")\n",
        "            folder_number=$(echo \"$folder_name\" | sed 's/.*\\.\\([0-9]*\\).*/\\1/' | sed 's/^[0]*//' )\n",
        "            file_number=$(echo \"$file_path\" | sed 's/.*\\/\\([0-9]*\\)\\..*/\\1/' | sed 's/^[0]*//')\n",
        "            result=$((folder_number + file_number - 1))\n",
        "            fileNumber=$(printf \"%04d\" \"$result\")\n",
        "            if [ \"$fileNumber\" = \"0000\" ]; then\n",
        "              echo \"Variable is 0000.\"\n",
        "              fileNumber=\"\"\n",
        "              newFileName=$(echo \"$filename\" | sed 's/\\([0-9]*\\)\\(\\..*\\)/\\2/' |sed 's/\\.//')\n",
        "            else\n",
        "              newFileName=$(echo \"$filename\" | sed 's/\\([0-9]*\\)\\(\\..*\\)/\\2/')\n",
        "            fi\n",
        "\n",
        "            #newFileName=$(echo \"$filename\" | sed 's/\\([0-9]*\\)\\(\\..*\\)/\\2/')\n",
        "            newFileName=\"$fileNumber$newFileName\"\n",
        "            newFileName=\"$folder_name/$newFileName\"\n",
        "            echo \"=>$newFileName\"\n",
        "            mv \"$file_path\" \"$newFileName\"\n",
        "            # echo \"$newFileName\"\n",
        "        #else\n",
        "            #echo \"Filename does not match the pattern.\"\n",
        "        fi\n",
        "      done\n",
        "\n",
        "\n",
        "      find \"$output_folder\" -type f -name \"*.docx\" |\n",
        "      while IFS= read -r file_path; do\n",
        "\n",
        "        filename=$(basename \"$file_path\")\n",
        "        folder_name=$(dirname \"$file_path\")\n",
        "        #tmp=$(dirname $tmp)\n",
        "        #echo $tmp | sed 's/[0-9]*\\.\\([^\\.]*\\.[^\\.]*$\\)/\\1/'\n",
        "        newDir=$(echo $folder_name | sed 's/[0-9]*\\.\\([^\\.]*$\\)/\\1/') # move last dir, then go down the chain\n",
        "        #echo \"$folder_name=>$newDir\"\n",
        "        #mv \"$folder_name\" \"$newDir\"\n",
        "        if [ -d \"$folder_name\" ] && [ \"$folder_name\" != \"$newDir\" ]; then\n",
        "          #echo \"Directory '$directory_name' exists.\"\n",
        "          echo \"$folder_name=>$newDir\"\n",
        "          mv \"$folder_name\" \"$newDir\"\n",
        "        #else\n",
        "          #echo \"Directory '$directory_name' does not exist.\"\n",
        "        fi\n",
        "      done\n",
        "\n",
        "\n",
        "\n",
        "\n",
        "\n",
        "done\n",
        "\n",
        "# move..."
      ]
    },
    {
      "cell_type": "markdown",
      "source": [
        "This one combines the .docxs in all songs into a single file"
      ],
      "metadata": {
        "id": "937NXJ53fWBk"
      }
    },
    {
      "cell_type": "code",
      "source": [
        "%%shell\n",
        "apt-get install xattr > /dev/null\n",
        "sudo apt-get install texlive-latex-base\n",
        "sudo apt-get install texlive-fonts-recommended\n",
        "sudo apt-get install texlive-fonts-extra"
      ],
      "metadata": {
        "id": "p1EIPmO8uVLi"
      },
      "execution_count": null,
      "outputs": []
    },
    {
      "cell_type": "code",
      "source": [
        "%%shell\n",
        "cd /content/hymnals_repo\n",
        "cd tmps\n",
        "\n",
        "# if matched..\n",
        "for hymnal in *; do\n",
        "    echo \"=>$hymnal\"\n",
        "    drive_hymnal=$(echo \"$hymnal\"|sed -e 's/-v4$//')\n",
        "    #echo \"<==$csycms_hymnal\"\n",
        "\n",
        "\n",
        "\n",
        "      source_folder=\"./$hymnal\"  # Replace with the path to the source folder\n",
        "      output_folder=\"/content/drive/MyDrive/$ROOT_DIR/public/Hymnals/$drive_hymnal\"  # Replace with the path to the output folder\n",
        "\n",
        "      rm -rf \"/etc/$drive_hymnal\"\n",
        "      mkdir -p \"/etc/$drive_hymnal\"\n",
        "      echo \"\" > \"$output_folder/fullhymnal.md\"\n",
        "      find \"$output_folder\" -type f -name \"*.docx\" | sort |\n",
        "      while IFS= read -r file_path; do\n",
        "\n",
        "        filename=$(basename \"$file_path\")\n",
        "        pattern=\"^[0-9]{4}\\..*\\.docx\"\n",
        "        if [[ $filename =~ $pattern ]]; then\n",
        "            #fid = getoutput(\"xattr -p 'user.drive.id' $file_path\")\n",
        "            fid=$(xattr -p 'user.drive.id' \"$file_path\")\n",
        "            #echo \"fid$fid\"\n",
        "            pandoc $file_path -s -o \"/etc/$drive_hymnal/tmp.md\"\n",
        "            file_number=$(echo \"$filename\" | sed 's/\\([0-9]*\\)\\..*/\\1/' | sed 's/^[0]*//')\n",
        "\n",
        "            ## sed -i \"s/title:[ ]*'\\(.*\\)',/## \\1/g\" \"$output_folder/fullhymnal.md\"\n",
        "            # remove ' if both first and last chars are ', eg in: ‘Delightful day! first gift of Heaven’\n",
        "            sed -i \"s/title:\\(.*\\)/## $file_number. \\1\\n[edit](https:\\/\\/docs.google.com\\/document\\/d\\/$fid\\/edit?mode=html)\\n/g\" \"/etc/$drive_hymnal/tmp.md\"\n",
        "            sed  -i \"s/\\-\\-\\-//g\" \"/etc/$drive_hymnal/tmp.md\"\n",
        "            cat \"/etc/$drive_hymnal/tmp.md\" >> \"$output_folder/fullhymnal.md\"\n",
        "            echo \" \" >> \"$output_folder/fullhymnal.md\"\n",
        "            echo \" \" >> \"$output_folder/fullhymnal.md\"\n",
        "        fi\n",
        "      done\n",
        "      pandoc \"$output_folder/fullhymnal.md\" -o \"$output_folder/fullhymnal.docx\"\n",
        "      pandoc \"$output_folder/fullhymnal.docx\" -o \"$output_folder/fullhymnal.pdf\"\n",
        "\n",
        "\n",
        "done\n",
        "\n",
        "# move..."
      ],
      "metadata": {
        "id": "iAR1y2v9ekSs"
      },
      "execution_count": null,
      "outputs": []
    },
    {
      "cell_type": "markdown",
      "metadata": {
        "id": "sOm9PFrT8mGG"
      },
      "source": [
        "# Saving data to Google Sheets\n",
        "\n",
        "\n",
        "This snippet uses the open-source [gspread](https://github.com/burnash/gspread) library for interacting with Sheets."
      ]
    },
    {
      "cell_type": "code",
      "execution_count": null,
      "metadata": {
        "id": "6d0xJz3VzLOo"
      },
      "outputs": [],
      "source": [
        "from google.colab import auth\n",
        "auth.authenticate_user()\n",
        "\n",
        "import gspread\n",
        "from google.auth import default\n",
        "creds, _ = default()\n",
        "\n",
        "gc = gspread.authorize(creds)\n",
        "\n",
        "sh = gc.create('A new spreadsheet')\n",
        "\n",
        "# Open our new sheet and add some data.\n",
        "worksheet = gc.open('A new spreadsheet').sheet1\n",
        "\n",
        "cell_list = worksheet.range('A1:C2')\n",
        "\n",
        "import random\n",
        "for cell in cell_list:\n",
        "  cell.value = random.randint(1, 10)\n",
        "\n",
        "worksheet.update_cells(cell_list)\n",
        "# Go to https://sheets.google.com to see your new spreadsheet."
      ]
    },
    {
      "cell_type": "markdown",
      "metadata": {
        "id": "k9q0pp33dckN"
      },
      "source": [
        "# Importing data from Google Sheets"
      ]
    },
    {
      "cell_type": "code",
      "execution_count": null,
      "metadata": {
        "id": "JiJVCmu3dhFa"
      },
      "outputs": [],
      "source": [
        "from google.colab import auth\n",
        "auth.authenticate_user()\n",
        "\n",
        "import gspread\n",
        "from google.auth import default\n",
        "creds, _ = default()\n",
        "\n",
        "gc = gspread.authorize(creds)\n",
        "\n",
        "worksheet = gc.open('Hymnals').sheet1\n",
        "\n",
        "# get_all_values gives a list of rows.\n",
        "rows = worksheet.get_all_values()\n",
        "print(rows)\n",
        "\n",
        "# Convert to a DataFrame and render.\n",
        "import pandas as pd\n",
        "pd.DataFrame.from_records(rows)"
      ]
    }
  ],
  "metadata": {
    "colab": {
      "provenance": [],
      "include_colab_link": true
    },
    "kernelspec": {
      "display_name": "Python 3",
      "name": "python3"
    }
  },
  "nbformat": 4,
  "nbformat_minor": 0
}