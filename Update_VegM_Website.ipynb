{
  "cells": [
    {
      "cell_type": "markdown",
      "metadata": {
        "id": "view-in-github",
        "colab_type": "text"
      },
      "source": [
        "<a href=\"https://colab.research.google.com/github/adventHymnals/resources/blob/master/Update_VegM_Website.ipynb\" target=\"_parent\"><img src=\"https://colab.research.google.com/assets/colab-badge.svg\" alt=\"Open In Colab\"/></a>"
      ]
    },
    {
      "cell_type": "markdown",
      "source": [
        "# Website Tools\n",
        "\n",
        "Run this noteboook to update(push changes) to website once you have edited [the website config sheet](https://docs.google.com/spreadsheets/d/1-otVkXNn6i4tWGki9grXzc4DjG6TdQ_XWTBbJttlESU/edit#gid=512290428)."
      ],
      "metadata": {
        "id": "bZkLclUXW2d6"
      }
    },
    {
      "cell_type": "code",
      "source": [
        "from google.colab import drive\n",
        "drive.mount('/content/drive')"
      ],
      "metadata": {
        "colab": {
          "base_uri": "https://localhost:8080/"
        },
        "id": "J5AZRfhkW8Gn",
        "outputId": "2cd95f02-f412-46dc-db7c-5da442035d95"
      },
      "execution_count": null,
      "outputs": [
        {
          "output_type": "stream",
          "name": "stdout",
          "text": [
            "Drive already mounted at /content/drive; to attempt to forcibly remount, call drive.mount(\"/content/drive\", force_remount=True).\n"
          ]
        }
      ]
    },
    {
      "cell_type": "code",
      "source": [
        "%%bash\n",
        "dirPath=\"\"\n",
        "if [ -d \"/content/drive/MyDrive/Publishing/Website\" ]\n",
        "then\n",
        "    dirPath=\"/content/drive/MyDrive/Publishing/Website\"\n",
        "else\n",
        "    if [ -d \"/content/drive/My Drive/Publishing/Website\" ]\n",
        "    then\n",
        "        dirPath=\"/content/drive/My Drive/Publishing/Website\"\n",
        "    else\n",
        "        exit\n",
        "    fi\n",
        "fi\n",
        "\n",
        "#### ssh key\n",
        "mkdir -p ~/.ssh\n",
        "cp \"$dirPath/private/id_rsa\" ~/.ssh/\n",
        "\n",
        "#### download google sheet\n",
        "docId=\"1-otVkXNn6i4tWGki9grXzc4DjG6TdQ_XWTBbJttlESU\"  ## Hardcode this (for now)\n",
        "sheetId=\"1050384173\"                                  ## Hardcode this (for now)\n",
        "rm -f logs1\n",
        "wget --output-file=\"logs1\" \"https://docs.google.com/spreadsheets/d/$docId/export?format=csv&gid=$sheetId\" -O \"sheet.csv\"\n",
        "rm logs1\n",
        "\n",
        "#### process sheet vars\n",
        "# prelink=$(grep -rh \"Github,\" sheet.csv | sed 's/Github,//')\n",
        "#prelink=$(cat sheet.csv |grep -o 'Github,[^ ]*' | cut -d',' -f2 | tr -d '\\r')\n",
        "#prelink=$(cat sheet.csv | awk -F',' '/Github/ {print $2}') | tr -d '\\r'\n",
        "prelink=$(cat sheet.csv |grep -o 'Github,[^ ]*' | cut -d',' -f2 | tr -d '\\r')\n",
        "link=\"git@github.com:$prelink.git\"\n",
        "\n",
        "GitCommitUser=$(grep -rh \"GitCommitUser,\" sheet.csv | sed 's/GitCommitUser,//' | tr -d '\\r')\n",
        "GitCommitEmail=$(grep -rh \"GitCommitEmail,\" sheet.csv | sed 's/GitCommitEmail,//'| tr -d '\\r')\n",
        "rm sheet.csv\n",
        "\n",
        "\n",
        "#### clone repo\n",
        "rm -rf websiteRepo\n",
        "mkdir -p websiteRepo\n",
        "\n",
        "ssh-keyscan GitHub.com >> /root/.ssh/known_hosts\n",
        "chmod 644 /root/.ssh/known_hosts\n",
        "chmod 600 /root/.ssh/id_rsa\n",
        "git clone \"$link\" websiteRepo\n",
        "\n",
        "\n",
        "#### Download sheets\n",
        "cd websiteRepo\n",
        "mkdir -p \"./configs/sheets\"\n",
        "rm -f logs\n",
        "while IFS=, read -r docId sheetId; do\n",
        "    wget --output-file=\"logs\" \"https://docs.google.com/spreadsheets/d/$docId/export?format=csv&gid=$sheetId\" -O \"./configs/sheets/$docId$sheetId.csv\"\n",
        "done < \"./configs/datasheets.txt\"\n",
        "rm -f logs\n",
        "\n",
        "#### push repo\n",
        "git config --global user.email \"$GitCommitEmail\" \n",
        "git config --global user.name \"$GitCommitUser\"\n",
        "git add . && git commit -m \"$(date)\" && git push origin master\n",
        "\n"
      ],
      "metadata": {
        "id": "RIebRSONW-sN"
      },
      "execution_count": null,
      "outputs": []
    }
  ],
  "metadata": {
    "colab": {
      "provenance": [],
      "include_colab_link": true
    },
    "kernelspec": {
      "display_name": "Python 3",
      "name": "python3"
    }
  },
  "nbformat": 4,
  "nbformat_minor": 0
}