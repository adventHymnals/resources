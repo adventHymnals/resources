{
  "cells": [
    {
      "cell_type": "markdown",
      "metadata": {
        "id": "view-in-github",
        "colab_type": "text"
      },
      "source": [
        "<a href=\"https://colab.research.google.com/github/adventHymnals/resources/blob/master/Update_VegM_Website.ipynb\" target=\"_parent\"><img src=\"https://colab.research.google.com/assets/colab-badge.svg\" alt=\"Open In Colab\"/></a>"
      ]
    },
    {
      "cell_type": "markdown",
      "source": [
        "# Website Tools\n",
        "\n",
        "Run this noteboook to update(push changes) to website once you have edited [the website config sheet](https://docs.google.com/spreadsheets/d/1-otVkXNn6i4tWGki9grXzc4DjG6TdQ_XWTBbJttlESU/edit#gid=512290428)."
      ],
      "metadata": {
        "id": "bZkLclUXW2d6"
      }
    },
    {
      "cell_type": "code",
      "source": [
        "from google.colab import drive\n",
        "drive.mount('/content/drive')"
      ],
      "metadata": {
        "colab": {
          "base_uri": "https://localhost:8080/"
        },
        "id": "J5AZRfhkW8Gn",
        "outputId": "2cd95f02-f412-46dc-db7c-5da442035d95"
      },
      "execution_count": null,
      "outputs": [
        {
          "output_type": "stream",
          "name": "stdout",
          "text": [
            "Drive already mounted at /content/drive; to attempt to forcibly remount, call drive.mount(\"/content/drive\", force_remount=True).\n"
          ]
        }
      ]
    },
    {
      "cell_type": "code",
      "source": [
        "%%bash\n",
        "dirPath=\"\"\n",
        "if [ -d \"/content/drive/MyDrive/Publishing/Website\" ]\n",
        "then\n",
        "    dirPath=\"/content/drive/MyDrive/Publishing/Website\"\n",
        "else\n",
        "    if [ -d \"/content/drive/My Drive/Publishing/Website\" ]\n",
        "    then\n",
        "        dirPath=\"/content/drive/My Drive/Publishing/Website\"\n",
        "    else\n",
        "        exit\n",
        "    fi\n",
        "fi\n",
        "\n",
        "#### ssh key\n",
        "mkdir -p ~/.ssh\n",
        "cp \"$dirPath/private/id_rsa\" ~/.ssh/\n",
        "\n",
        "#### download google sheet\n",
        "docId=\"1-otVkXNn6i4tWGki9grXzc4DjG6TdQ_XWTBbJttlESU\"  ## Hardcode this (for now)\n",
        "sheetId=\"1050384173\"                                  ## Hardcode this (for now)\n",
        "rm -f logs1\n",
        "wget --output-file=\"logs1\" \"https://docs.google.com/spreadsheets/d/$docId/export?format=csv&gid=$sheetId\" -O \"sheet.csv\"\n",
        "rm logs1\n",
        "\n",
        "#### process sheet vars\n",
        "# prelink=$(grep -rh \"Github,\" sheet.csv | sed 's/Github,//')\n",
        "#prelink=$(cat sheet.csv |grep -o 'Github,[^ ]*' | cut -d',' -f2 | tr -d '\\r')\n",
        "#prelink=$(cat sheet.csv | awk -F',' '/Github/ {print $2}') | tr -d '\\r'\n",
        "prelink=$(cat sheet.csv |grep -o 'Github,[^ ]*' | cut -d',' -f2 | tr -d '\\r')\n",
        "link=\"git@github.com:$prelink.git\"\n",
        "\n",
        "GitCommitUser=$(grep -rh \"GitCommitUser,\" sheet.csv | sed 's/GitCommitUser,//' | tr -d '\\r')\n",
        "GitCommitEmail=$(grep -rh \"GitCommitEmail,\" sheet.csv | sed 's/GitCommitEmail,//'| tr -d '\\r')\n",
        "rm sheet.csv\n",
        "\n",
        "\n",
        "#### clone repo\n",
        "rm -rf websiteRepo\n",
        "mkdir -p websiteRepo\n",
        "\n",
        "ssh-keyscan GitHub.com >> /root/.ssh/known_hosts\n",
        "chmod 644 /root/.ssh/known_hosts\n",
        "chmod 600 /root/.ssh/id_rsa\n",
        "git clone \"$link\" websiteRepo\n",
        "\n",
        "\n",
        "#### Download sheets\n",
        "cd websiteRepo\n",
        "mkdir -p \"./configs/sheets\"\n",
        "rm -f logs\n",
        "while IFS=, read -r docId sheetId; do\n",
        "    wget --output-file=\"logs\" \"https://docs.google.com/spreadsheets/d/$docId/export?format=csv&gid=$sheetId\" -O \"./configs/sheets/$docId$sheetId.csv\"\n",
        "done < \"./configs/datasheets.txt\"\n",
        "rm -f logs\n",
        "\n",
        "#### push repo\n",
        "git config --global user.email \"$GitCommitEmail\" \n",
        "git config --global user.name \"$GitCommitUser\"\n",
        "git add . && git commit -m \"$(date)\" && git push origin master\n",
        "\n"
      ],
      "metadata": {
        "id": "RIebRSONW-sN",
        "colab": {
          "base_uri": "https://localhost:8080/",
          "height": 918
        },
        "outputId": "f826603d-9e63-4d27-d957-6eeea7d6d08b"
      },
      "execution_count": 23,
      "outputs": [
        {
          "output_type": "stream",
          "name": "stdout",
          "text": [
            "On branch master\n",
            "Your branch is up to date with 'origin/master'.\n",
            "\n",
            "nothing to commit, working tree clean\n"
          ]
        },
        {
          "output_type": "stream",
          "name": "stderr",
          "text": [
            "# GitHub.com:22 SSH-2.0-babeld-30e2af52\n",
            "# GitHub.com:22 SSH-2.0-babeld-30e2af52\n",
            "# GitHub.com:22 SSH-2.0-babeld-30e2af52\n",
            "# GitHub.com:22 SSH-2.0-babeld-30e2af52\n",
            "# GitHub.com:22 SSH-2.0-babeld-30e2af52\n",
            "Cloning into 'websiteRepo'...\n"
          ]
        },
        {
          "output_type": "error",
          "ename": "CalledProcessError",
          "evalue": "ignored",
          "traceback": [
            "\u001b[0;31m---------------------------------------------------------------------------\u001b[0m",
            "\u001b[0;31mCalledProcessError\u001b[0m                        Traceback (most recent call last)",
            "\u001b[0;32m<ipython-input-23-4e9f3a44a700>\u001b[0m in \u001b[0;36m<cell line: 1>\u001b[0;34m()\u001b[0m\n\u001b[0;32m----> 1\u001b[0;31m \u001b[0mget_ipython\u001b[0m\u001b[0;34m(\u001b[0m\u001b[0;34m)\u001b[0m\u001b[0;34m.\u001b[0m\u001b[0mrun_cell_magic\u001b[0m\u001b[0;34m(\u001b[0m\u001b[0;34m'bash'\u001b[0m\u001b[0;34m,\u001b[0m \u001b[0;34m''\u001b[0m\u001b[0;34m,\u001b[0m \u001b[0;34m'dirPath=\"\"\\nif [ -d \"/content/drive/MyDrive/Publishing/Website\" ]\\nthen\\n    dirPath=\"/content/drive/MyDrive/Publishing/Website\"\\nelse\\n    if [ -d \"/content/drive/My Drive/Publishing/Website\" ]\\n    then\\n        dirPath=\"/content/drive/My Drive/Publishing/Website\"\\n    else\\n        exit\\n    fi\\nfi\\n\\n#### ssh key\\nmkdir -p ~/.ssh\\ncp \"$dirPath/private/id_rsa\" ~/.ssh/\\n\\n#### download google sheet\\ndocId=\"1-otVkXNn6i4tWGki9grXzc4DjG6TdQ_XWTBbJttlESU\"  ## Hardcode this (for now)\\nsheetId=\"1050384173\"                                  ## Hardcode this (for now)\\nrm -f logs1\\nwget --output-file=\"logs1\" \"https://docs.google.com/spreadsheets/d/$docId/export?format=csv&gid=$sheetId\" -O \"sheet.csv\"\\nrm logs1\\n\\n#### process sheet vars\\n# prelink=$(grep -rh \"Github,\" sheet.csv | sed \\'s/Github,//\\')\\n#prelink=$(cat sheet.csv |grep -o \\'Github,[^ ]*\\' | cut -d\\',\\' -f2 | tr -d \\'\\\\r\\')\\n#prelink=$(cat sheet.csv | awk -F\\',\\' \\'/Github/ {print $2}\\') | tr -d \\'\\\\r\\'\\nprelink=$(cat sheet.csv |grep -o \\'Github,[^ ]*\\' | cut -d\\',\\' -f2 | tr -d \\'\\\\r\\')\\nlink=\"git@github.com:$prelink.git\"\\n\\nGitCommitUser=$(grep -rh \"GitCommitUser,\" sheet.csv | sed \\'s/GitCommitUser,//\\' | tr -d \\'\\\\r\\')\\nGitCommitEmail=$(grep -rh \"GitCommitEmail,\" sheet.csv | sed \\'s/GitCommitEmail,//\\'| tr -d \\'\\\\r\\')\\nrm sheet.csv\\n\\n\\n#### c...\n\u001b[0m",
            "\u001b[0;32m/usr/local/lib/python3.10/dist-packages/google/colab/_shell.py\u001b[0m in \u001b[0;36mrun_cell_magic\u001b[0;34m(self, magic_name, line, cell)\u001b[0m\n\u001b[1;32m    332\u001b[0m     \u001b[0;32mif\u001b[0m \u001b[0mline\u001b[0m \u001b[0;32mand\u001b[0m \u001b[0;32mnot\u001b[0m \u001b[0mcell\u001b[0m\u001b[0;34m:\u001b[0m\u001b[0;34m\u001b[0m\u001b[0;34m\u001b[0m\u001b[0m\n\u001b[1;32m    333\u001b[0m       \u001b[0mcell\u001b[0m \u001b[0;34m=\u001b[0m \u001b[0;34m' '\u001b[0m\u001b[0;34m\u001b[0m\u001b[0;34m\u001b[0m\u001b[0m\n\u001b[0;32m--> 334\u001b[0;31m     \u001b[0;32mreturn\u001b[0m \u001b[0msuper\u001b[0m\u001b[0;34m(\u001b[0m\u001b[0;34m)\u001b[0m\u001b[0;34m.\u001b[0m\u001b[0mrun_cell_magic\u001b[0m\u001b[0;34m(\u001b[0m\u001b[0mmagic_name\u001b[0m\u001b[0;34m,\u001b[0m \u001b[0mline\u001b[0m\u001b[0;34m,\u001b[0m \u001b[0mcell\u001b[0m\u001b[0;34m)\u001b[0m\u001b[0;34m\u001b[0m\u001b[0;34m\u001b[0m\u001b[0m\n\u001b[0m\u001b[1;32m    335\u001b[0m \u001b[0;34m\u001b[0m\u001b[0m\n\u001b[1;32m    336\u001b[0m \u001b[0;34m\u001b[0m\u001b[0m\n",
            "\u001b[0;32m/usr/local/lib/python3.10/dist-packages/IPython/core/interactiveshell.py\u001b[0m in \u001b[0;36mrun_cell_magic\u001b[0;34m(self, magic_name, line, cell)\u001b[0m\n\u001b[1;32m   2471\u001b[0m             \u001b[0;32mwith\u001b[0m \u001b[0mself\u001b[0m\u001b[0;34m.\u001b[0m\u001b[0mbuiltin_trap\u001b[0m\u001b[0;34m:\u001b[0m\u001b[0;34m\u001b[0m\u001b[0;34m\u001b[0m\u001b[0m\n\u001b[1;32m   2472\u001b[0m                 \u001b[0margs\u001b[0m \u001b[0;34m=\u001b[0m \u001b[0;34m(\u001b[0m\u001b[0mmagic_arg_s\u001b[0m\u001b[0;34m,\u001b[0m \u001b[0mcell\u001b[0m\u001b[0;34m)\u001b[0m\u001b[0;34m\u001b[0m\u001b[0;34m\u001b[0m\u001b[0m\n\u001b[0;32m-> 2473\u001b[0;31m                 \u001b[0mresult\u001b[0m \u001b[0;34m=\u001b[0m \u001b[0mfn\u001b[0m\u001b[0;34m(\u001b[0m\u001b[0;34m*\u001b[0m\u001b[0margs\u001b[0m\u001b[0;34m,\u001b[0m \u001b[0;34m**\u001b[0m\u001b[0mkwargs\u001b[0m\u001b[0;34m)\u001b[0m\u001b[0;34m\u001b[0m\u001b[0;34m\u001b[0m\u001b[0m\n\u001b[0m\u001b[1;32m   2474\u001b[0m             \u001b[0;32mreturn\u001b[0m \u001b[0mresult\u001b[0m\u001b[0;34m\u001b[0m\u001b[0;34m\u001b[0m\u001b[0m\n\u001b[1;32m   2475\u001b[0m \u001b[0;34m\u001b[0m\u001b[0m\n",
            "\u001b[0;32m/usr/local/lib/python3.10/dist-packages/IPython/core/magics/script.py\u001b[0m in \u001b[0;36mnamed_script_magic\u001b[0;34m(line, cell)\u001b[0m\n\u001b[1;32m    140\u001b[0m             \u001b[0;32melse\u001b[0m\u001b[0;34m:\u001b[0m\u001b[0;34m\u001b[0m\u001b[0;34m\u001b[0m\u001b[0m\n\u001b[1;32m    141\u001b[0m                 \u001b[0mline\u001b[0m \u001b[0;34m=\u001b[0m \u001b[0mscript\u001b[0m\u001b[0;34m\u001b[0m\u001b[0;34m\u001b[0m\u001b[0m\n\u001b[0;32m--> 142\u001b[0;31m             \u001b[0;32mreturn\u001b[0m \u001b[0mself\u001b[0m\u001b[0;34m.\u001b[0m\u001b[0mshebang\u001b[0m\u001b[0;34m(\u001b[0m\u001b[0mline\u001b[0m\u001b[0;34m,\u001b[0m \u001b[0mcell\u001b[0m\u001b[0;34m)\u001b[0m\u001b[0;34m\u001b[0m\u001b[0;34m\u001b[0m\u001b[0m\n\u001b[0m\u001b[1;32m    143\u001b[0m \u001b[0;34m\u001b[0m\u001b[0m\n\u001b[1;32m    144\u001b[0m         \u001b[0;31m# write a basic docstring:\u001b[0m\u001b[0;34m\u001b[0m\u001b[0;34m\u001b[0m\u001b[0m\n",
            "\u001b[0;32m<decorator-gen-103>\u001b[0m in \u001b[0;36mshebang\u001b[0;34m(self, line, cell)\u001b[0m\n",
            "\u001b[0;32m/usr/local/lib/python3.10/dist-packages/IPython/core/magic.py\u001b[0m in \u001b[0;36m<lambda>\u001b[0;34m(f, *a, **k)\u001b[0m\n\u001b[1;32m    185\u001b[0m     \u001b[0;31m# but it's overkill for just that one bit of state.\u001b[0m\u001b[0;34m\u001b[0m\u001b[0;34m\u001b[0m\u001b[0m\n\u001b[1;32m    186\u001b[0m     \u001b[0;32mdef\u001b[0m \u001b[0mmagic_deco\u001b[0m\u001b[0;34m(\u001b[0m\u001b[0marg\u001b[0m\u001b[0;34m)\u001b[0m\u001b[0;34m:\u001b[0m\u001b[0;34m\u001b[0m\u001b[0;34m\u001b[0m\u001b[0m\n\u001b[0;32m--> 187\u001b[0;31m         \u001b[0mcall\u001b[0m \u001b[0;34m=\u001b[0m \u001b[0;32mlambda\u001b[0m \u001b[0mf\u001b[0m\u001b[0;34m,\u001b[0m \u001b[0;34m*\u001b[0m\u001b[0ma\u001b[0m\u001b[0;34m,\u001b[0m \u001b[0;34m**\u001b[0m\u001b[0mk\u001b[0m\u001b[0;34m:\u001b[0m \u001b[0mf\u001b[0m\u001b[0;34m(\u001b[0m\u001b[0;34m*\u001b[0m\u001b[0ma\u001b[0m\u001b[0;34m,\u001b[0m \u001b[0;34m**\u001b[0m\u001b[0mk\u001b[0m\u001b[0;34m)\u001b[0m\u001b[0;34m\u001b[0m\u001b[0;34m\u001b[0m\u001b[0m\n\u001b[0m\u001b[1;32m    188\u001b[0m \u001b[0;34m\u001b[0m\u001b[0m\n\u001b[1;32m    189\u001b[0m         \u001b[0;32mif\u001b[0m \u001b[0mcallable\u001b[0m\u001b[0;34m(\u001b[0m\u001b[0marg\u001b[0m\u001b[0;34m)\u001b[0m\u001b[0;34m:\u001b[0m\u001b[0;34m\u001b[0m\u001b[0;34m\u001b[0m\u001b[0m\n",
            "\u001b[0;32m/usr/local/lib/python3.10/dist-packages/IPython/core/magics/script.py\u001b[0m in \u001b[0;36mshebang\u001b[0;34m(self, line, cell)\u001b[0m\n\u001b[1;32m    243\u001b[0m             \u001b[0msys\u001b[0m\u001b[0;34m.\u001b[0m\u001b[0mstderr\u001b[0m\u001b[0;34m.\u001b[0m\u001b[0mflush\u001b[0m\u001b[0;34m(\u001b[0m\u001b[0;34m)\u001b[0m\u001b[0;34m\u001b[0m\u001b[0;34m\u001b[0m\u001b[0m\n\u001b[1;32m    244\u001b[0m         \u001b[0;32mif\u001b[0m \u001b[0margs\u001b[0m\u001b[0;34m.\u001b[0m\u001b[0mraise_error\u001b[0m \u001b[0;32mand\u001b[0m \u001b[0mp\u001b[0m\u001b[0;34m.\u001b[0m\u001b[0mreturncode\u001b[0m\u001b[0;34m!=\u001b[0m\u001b[0;36m0\u001b[0m\u001b[0;34m:\u001b[0m\u001b[0;34m\u001b[0m\u001b[0;34m\u001b[0m\u001b[0m\n\u001b[0;32m--> 245\u001b[0;31m             \u001b[0;32mraise\u001b[0m \u001b[0mCalledProcessError\u001b[0m\u001b[0;34m(\u001b[0m\u001b[0mp\u001b[0m\u001b[0;34m.\u001b[0m\u001b[0mreturncode\u001b[0m\u001b[0;34m,\u001b[0m \u001b[0mcell\u001b[0m\u001b[0;34m,\u001b[0m \u001b[0moutput\u001b[0m\u001b[0;34m=\u001b[0m\u001b[0mout\u001b[0m\u001b[0;34m,\u001b[0m \u001b[0mstderr\u001b[0m\u001b[0;34m=\u001b[0m\u001b[0merr\u001b[0m\u001b[0;34m)\u001b[0m\u001b[0;34m\u001b[0m\u001b[0;34m\u001b[0m\u001b[0m\n\u001b[0m\u001b[1;32m    246\u001b[0m \u001b[0;34m\u001b[0m\u001b[0m\n\u001b[1;32m    247\u001b[0m     \u001b[0;32mdef\u001b[0m \u001b[0m_run_script\u001b[0m\u001b[0;34m(\u001b[0m\u001b[0mself\u001b[0m\u001b[0;34m,\u001b[0m \u001b[0mp\u001b[0m\u001b[0;34m,\u001b[0m \u001b[0mcell\u001b[0m\u001b[0;34m,\u001b[0m \u001b[0mto_close\u001b[0m\u001b[0;34m)\u001b[0m\u001b[0;34m:\u001b[0m\u001b[0;34m\u001b[0m\u001b[0;34m\u001b[0m\u001b[0m\n",
            "\u001b[0;31mCalledProcessError\u001b[0m: Command 'b'dirPath=\"\"\\nif [ -d \"/content/drive/MyDrive/Publishing/Website\" ]\\nthen\\n    dirPath=\"/content/drive/MyDrive/Publishing/Website\"\\nelse\\n    if [ -d \"/content/drive/My Drive/Publishing/Website\" ]\\n    then\\n        dirPath=\"/content/drive/My Drive/Publishing/Website\"\\n    else\\n        exit\\n    fi\\nfi\\n\\n#### ssh key\\nmkdir -p ~/.ssh\\ncp \"$dirPath/private/id_rsa\" ~/.ssh/\\n\\n#### download google sheet\\ndocId=\"1-otVkXNn6i4tWGki9grXzc4DjG6TdQ_XWTBbJttlESU\"  ## Hardcode this (for now)\\nsheetId=\"1050384173\"                                  ## Hardcode this (for now)\\nrm -f logs1\\nwget --output-file=\"logs1\" \"https://docs.google.com/spreadsheets/d/$docId/export?format=csv&gid=$sheetId\" -O \"sheet.csv\"\\nrm logs1\\n\\n#### process sheet vars\\n# prelink=$(grep -rh \"Github,\" sheet.csv | sed \\'s/Github,//\\')\\n#prelink=$(cat sheet.csv |grep -o \\'Github,[^ ]*\\' | cut -d\\',\\' -f2 | tr -d \\'\\\\r\\')\\n#prelink=$(cat sheet.csv | awk -F\\',\\' \\'/Github/ {print $2}\\') | tr -d \\'\\\\r\\'\\nprelink=$(cat sheet.csv |grep -o \\'Github,[^ ]*\\' | cut -d\\',\\' -f2 | tr -d \\'\\\\r\\')\\nlink=\"git@github.com:$prelink.git\"\\n\\nGitCommitUser=$(grep -rh \"GitCommitUser,\" sheet.csv | sed \\'s/GitCommitUser,//\\' | tr -d \\'\\\\r\\')\\nGitCommitEmail=$(grep -rh \"GitCommitEmail,\" sheet.csv | sed \\'s/GitCommitEmail,//\\'| tr -d \\'\\\\r\\')\\nrm sheet.csv\\n\\n\\n#### clone repo\\nrm -rf websiteRepo\\nmkdir -p websiteRepo\\n\\nssh-keyscan GitHub.com >> /root/.ssh/known_hosts\\nchmod 644 /root/.ssh/known_h..."
          ]
        }
      ]
    }
  ],
  "metadata": {
    "colab": {
      "provenance": [],
      "include_colab_link": true
    },
    "kernelspec": {
      "display_name": "Python 3",
      "name": "python3"
    }
  },
  "nbformat": 4,
  "nbformat_minor": 0
}